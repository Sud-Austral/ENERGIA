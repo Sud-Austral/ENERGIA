{
 "cells": [
  {
   "cell_type": "code",
   "execution_count": 14,
   "metadata": {},
   "outputs": [
    {
     "name": "stdout",
     "output_type": "stream",
     "text": [
      "https://api.desarrolladores.energiaabierta.cl/bencina-en-linea/v1/combustibles/vehicular/estaciones/gasolina95.json/?auth_key=1594882b82550b038f365b0c6a7976682bdd0192\n"
     ]
    }
   ],
   "source": [
    "import requests\n",
    "import json\n",
    "import pandas as pd\n",
    "from datetime import datetime\n",
    "\n",
    "\n",
    "####Bencina en Línea####\n",
    "\n",
    "auth = \"1594882b82550b038f365b0c6a7976682bdd0192\"\n",
    "tipoComb = [\"diesel\",\"gasolina93\",\"gasolina95\",\"gasolina97\",\"glp\",\"gnc\"]\n",
    "date = datetime.now()\n",
    "day = date.strftime(\"%d/%m/%Y\")\n",
    "hour = date.strftime(\"%H:%M:%S\")\n",
    "\n",
    "Nyear = int(year)+1\n",
    "dfs = []\n",
    "\n",
    "\n",
    "with pd.ExcelWriter('Bencina_En_Linea_Ultima_Actualizacion.xlsx') as writer:\n",
    "    for i in tipoComb:\n",
    "        url = \"https://api.desarrolladores.energiaabierta.cl/bencina-en-linea/v1/combustibles/vehicular/estaciones/\"+i+\".json/?auth_key=\"+auth\n",
    "        try:\n",
    "            data = requests.get(url)\n",
    "            Jdata = data.json()\n",
    "            df = pd.DataFrame(Jdata[\"data\"])\n",
    "            df.columns = Jdata[\"headers\"]\n",
    "        except:\n",
    "            print(url)\n",
    "        df[\"Tipo Combustible\"]=i\n",
    "        df[\"Fecha\"]=day\n",
    "        df[\"Hora\"]=hour\n",
    "        df.to_excel(writer, sheet_name = \"BEL_\"+i, index=False)\n",
    "        "
   ]
  },
  {
   "cell_type": "code",
   "execution_count": 16,
   "metadata": {},
   "outputs": [],
   "source": [
    "import pandas as pd\n",
    "\n",
    "url = 'https://api.desarrolladores.energiaabierta.cl/importacion-y-exportacion/v1/anios.ajson/?auth_key=1594882b82550b038f365b0c6a7976682bdd0192'\n",
    "data = requests.get(url)\n",
    "Jdata = data.json()\n",
    "df = pd.DataFrame(Jdata[\"result\"])\n",
    "df = df.T\n",
    "df.columns = [\"Años\"]\n",
    "\n",
    "df.to_excel(\"Importacion y Exportacion_Años.xlsx\", index = False)"
   ]
  },
  {
   "cell_type": "code",
   "execution_count": 25,
   "metadata": {},
   "outputs": [],
   "source": [
    "dataf = pd.read_excel(\"Importacion y Exportacion/Importacion y Exportacion_Años.xlsx\")\n",
    "year = dataf[\"Años\"]\n",
    "auth = \"1594882b82550b038f365b0c6a7976682bdd0192\"\n",
    "dfs = []\n",
    "\n",
    "for i in year:\n",
    "    url = \"https://api.desarrolladores.energiaabierta.cl/importacion-y-exportacion/v1/exportacion.json/?auth_key=\"+auth+\"&ano=\"+str(i)\n",
    "    data = requests.get(url)\n",
    "    Jdata = data.json()\n",
    "    df = pd.DataFrame(Jdata[\"data\"])\n",
    "    df.columns = Jdata[\"headers\"]\n",
    "    dfs.append(df)\n",
    "\n",
    "salida = pd.concat(dfs)\n",
    "salida.columns = [\"Arancel\",\"Año\",\"Mes\",\"Unidad_medida\",\"Pais_destino\",\"Tipo_arancel_reporte\",\"Cantidad_mercancias\"]\n",
    "    \n",
    "salida.to_excel(\"Importacion y Exportacion/Exportacion.xlsx\",index=False)\n",
    "#print(salida)"
   ]
  },
  {
   "cell_type": "code",
   "execution_count": null,
   "metadata": {},
   "outputs": [],
   "source": []
  }
 ],
 "metadata": {
  "kernelspec": {
   "display_name": "Python 3",
   "language": "python",
   "name": "python3"
  },
  "language_info": {
   "codemirror_mode": {
    "name": "ipython",
    "version": 3
   },
   "file_extension": ".py",
   "mimetype": "text/x-python",
   "name": "python",
   "nbconvert_exporter": "python",
   "pygments_lexer": "ipython3",
   "version": "3.8.5"
  }
 },
 "nbformat": 4,
 "nbformat_minor": 4
}
